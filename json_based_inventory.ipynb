{
  "nbformat": 4,
  "nbformat_minor": 0,
  "metadata": {
    "colab": {
      "name": "json based inventory.ipynb",
      "provenance": []
    },
    "kernelspec": {
      "name": "python3",
      "display_name": "Python 3"
    },
    "language_info": {
      "name": "python"
    }
  },
  "cells": [
    {
      "cell_type": "code",
      "metadata": {
        "id": "yxnvvabnAEg3"
      },
      "source": [
        "record={100231:{'name':'Lays','price':40,'quantity':35,'Category':'chips'},\n",
        "        100232:{'name':'oreo','price':30,'quantity':40,'Category':'Biscuits'},\n",
        "        100233:{'name':'Dairymilk','price':5,'quantity':100,'Category':'choclates'}}"
      ],
      "execution_count": 1,
      "outputs": []
    },
    {
      "cell_type": "code",
      "metadata": {
        "id": "KladAw8LN8ut",
        "colab": {
          "base_uri": "https://localhost:8080/"
        },
        "outputId": "65ce440d-5a49-40bf-982d-9f35e2e21cc8"
      },
      "source": [
        "record"
      ],
      "execution_count": 84,
      "outputs": [
        {
          "output_type": "execute_result",
          "data": {
            "text/plain": [
              "{100231: {'Category': 'chips', 'name': 'Lays', 'price': 40, 'quantity': 35},\n",
              " 100232: {'Category': 'Biscuits', 'name': 'oreo', 'price': 30, 'quantity': 40},\n",
              " 100233: {'Category': 'choclates',\n",
              "  'name': 'Dairymilk',\n",
              "  'price': 5,\n",
              "  'quantity': 100},\n",
              " '100234': {'product_Category': 'drinks',\n",
              "  'product_name': 'Appy fizz',\n",
              "  'product_price': 15,\n",
              "  'product_quantity': 100},\n",
              " '100235': {'product_Category': 'bakery item',\n",
              "  'product_name': 'cake',\n",
              "  'product_price': 20,\n",
              "  'product_quantity': 100},\n",
              " '100236': {'product_Category': 'drinks',\n",
              "  'product_name': 'sprite',\n",
              "  'product_price': 94,\n",
              "  'product_quantity': 20},\n",
              " '100237': {'product_Category': 'cooking oil',\n",
              "  'product_name': 'freedom oil',\n",
              "  'product_price': 165,\n",
              "  'product_quantity': 15},\n",
              " '100238': {'product_Category': 'sugar',\n",
              "  'product_name': 'sugar',\n",
              "  'product_price': 40,\n",
              "  'product_quantity': 30},\n",
              " '100239': {'product_Category': 'rice bag',\n",
              "  'product_name': 'Sona masoori ',\n",
              "  'product_price': 1300,\n",
              "  'product_quantity': 10},\n",
              " '100240': {'product_Category': 'dryfruits in kg',\n",
              "  'product_name': 'Cashew nuts',\n",
              "  'product_price': 900,\n",
              "  'product_quantity': 10},\n",
              " '100241': {'product_Category': 'snack item',\n",
              "  'product_name': 'Haldrims',\n",
              "  'product_price': 35,\n",
              "  'product_quantity': 50},\n",
              " '100242': {'product_Category': 'soap',\n",
              "  'product_name': 'santoor',\n",
              "  'product_price': 30,\n",
              "  'product_quantity': 30},\n",
              " '100243': {'product_Category': 'Detergent soap',\n",
              "  'product_name': 'Rin surf Xl',\n",
              "  'product_price': 27,\n",
              "  'product_quantity': 50},\n",
              " '100244': {'product_Category': 'detergent powder',\n",
              "  'product_name': 'Tide',\n",
              "  'product_price': 65,\n",
              "  'product_quantity': 30},\n",
              " '100245': {'product_Category': 'ice cream powder',\n",
              "  'product_name': 'ice cream powder',\n",
              "  'product_price': 50,\n",
              "  'product_quantity': 50},\n",
              " '100246': {'product_Category': 'desserts',\n",
              "  'product_name': 'ice cream',\n",
              "  'product_price': 180,\n",
              "  'product_quantity': 20},\n",
              " '100247': {'product_Category': 'tea powder',\n",
              "  'product_name': 'Tajmahal',\n",
              "  'product_price': 220,\n",
              "  'product_quantity': 10},\n",
              " '100248': {'product_Category': 'deodrant',\n",
              "  'product_name': 'cinthol perfume',\n",
              "  'product_price': 180,\n",
              "  'product_quantity': 10},\n",
              " '100249': {'product_Category': 'sauce',\n",
              "  'product_name': 'Chilli sauce',\n",
              "  'product_price': 50,\n",
              "  'product_quantity': 15},\n",
              " '100250': {'product_Category': 'pen',\n",
              "  'product_name': 'reynolds pen',\n",
              "  'product_price': 10,\n",
              "  'product_quantity': 50},\n",
              " '100251': {'product_Category': 'pencil',\n",
              "  'product_name': 'Apsara pencil',\n",
              "  'product_price': 5,\n",
              "  'product_quantity': 100},\n",
              " '100252': {'product_Category': 'face wash',\n",
              "  'product_name': 'Himalayan face wash',\n",
              "  'product_price': 45,\n",
              "  'product_quantity': 20},\n",
              " '100253': {'product_Category': 'coconut oil',\n",
              "  'product_name': 'Parachute oil',\n",
              "  'product_price': 120,\n",
              "  'product_quantity': 30},\n",
              " '100254': {'product_Category': 'shampoo',\n",
              "  'product_name': 'Head and shoulder shampoo',\n",
              "  'product_price': 100,\n",
              "  'product_quantity': 20},\n",
              " '100255': {'product_Category': 'antiseptic liquid',\n",
              "  'product_name': 'Dettol liquid',\n",
              "  'product_price': 54,\n",
              "  'product_quantity': 30},\n",
              " '100256': {'product_Category': 'handwash',\n",
              "  'product_name': 'Dettol handwash',\n",
              "  'product_price': 180,\n",
              "  'product_quantity': 20},\n",
              " '100257': {'product_Category': 'popcorn',\n",
              "  'product_name': 'Insta popcorn',\n",
              "  'product_price': 10,\n",
              "  'product_quantity': 100},\n",
              " '100258': {'product_Category': 'washing liquid',\n",
              "  'product_name': 'comfort',\n",
              "  'product_price': 3,\n",
              "  'product_quantity': 100},\n",
              " '100259': {'product_Category': 'pasta',\n",
              "  'product_name': 'insta pasta',\n",
              "  'product_price': 15,\n",
              "  'product_quantity': 25},\n",
              " '100260': {'product_Category': 'tooth paste',\n",
              "  'product_name': 'colgate ',\n",
              "  'product_price': 20,\n",
              "  'product_quantity': 50}}"
            ]
          },
          "metadata": {},
          "execution_count": 84
        }
      ]
    },
    {
      "cell_type": "code",
      "metadata": {
        "colab": {
          "base_uri": "https://localhost:8080/"
        },
        "id": "qg_NrN3GONMa",
        "outputId": "dcd22de6-4071-4380-f1e2-0d25a28580f6"
      },
      "source": [
        "product_id=str(input(\"Enter the product id: \"))\n",
        "product_name=str(input(\"Enter the product name: \"))\n",
        "product_price=int(input(\"Enter the product price: \"))\n",
        "product_quantity=int(input(\"Enter the quantity: \"))\n",
        "product_Category=str(input(\"Enter the category of product: \"))\n",
        "record[product_id]={'product_name':product_name,'product_price':product_price,'product_quantity':product_quantity,'product_Category':product_Category}"
      ],
      "execution_count": 78,
      "outputs": [
        {
          "name": "stdout",
          "output_type": "stream",
          "text": [
            "Enter the product id: 100260\n",
            "Enter the product name: colgate \n",
            "Enter the product price: 20\n",
            "Enter the quantity: 50\n",
            "Enter the category of product: tooth paste\n"
          ]
        }
      ]
    },
    {
      "cell_type": "code",
      "metadata": {
        "colab": {
          "base_uri": "https://localhost:8080/"
        },
        "id": "yOxKjD0-Q2GU",
        "outputId": "4c89455e-5871-479d-886d-c2c2543aa107"
      },
      "source": [
        "len(record)"
      ],
      "execution_count": 80,
      "outputs": [
        {
          "output_type": "execute_result",
          "data": {
            "text/plain": [
              "30"
            ]
          },
          "metadata": {},
          "execution_count": 80
        }
      ]
    },
    {
      "cell_type": "code",
      "metadata": {
        "id": "6Hv056pZSfJs"
      },
      "source": [
        "import json\n"
      ],
      "execution_count": 114,
      "outputs": []
    },
    {
      "cell_type": "code",
      "metadata": {
        "colab": {
          "base_uri": "https://localhost:8080/",
          "height": 391
        },
        "id": "p6G8UmF5ToiK",
        "outputId": "5496e127-8739-492a-a6c5-77ab9a99c95b"
      },
      "source": [
        "js"
      ],
      "execution_count": 82,
      "outputs": [
        {
          "output_type": "execute_result",
          "data": {
            "application/vnd.google.colaboratory.intrinsic+json": {
              "type": "string"
            },
            "text/plain": [
              "'{\"100231\": {\"name\": \"Lays\", \"price\": 40, \"quantity\": 35, \"Category\": \"chips\"}, \"100232\": {\"name\": \"oreo\", \"price\": 30, \"quantity\": 40, \"Category\": \"Biscuits\"}, \"100233\": {\"name\": \"Dairymilk\", \"price\": 5, \"quantity\": 100, \"Category\": \"choclates\"}, \"100234\": {\"product_name\": \"Appy fizz\", \"product_price\": 15, \"product_quantity\": 100, \"product_Category\": \"drinks\"}, \"100235\": {\"product_name\": \"cake\", \"product_price\": 20, \"product_quantity\": 100, \"product_Category\": \"bakery item\"}, \"100236\": {\"product_name\": \"sprite\", \"product_price\": 94, \"product_quantity\": 20, \"product_Category\": \"drinks\"}, \"100237\": {\"product_name\": \"freedom oil\", \"product_price\": 165, \"product_quantity\": 15, \"product_Category\": \"cooking oil\"}, \"100238\": {\"product_name\": \"sugar\", \"product_price\": 40, \"product_quantity\": 30, \"product_Category\": \"sugar\"}, \"100239\": {\"product_name\": \"Sona masoori \", \"product_price\": 1300, \"product_quantity\": 10, \"product_Category\": \"rice bag\"}, \"100240\": {\"product_name\": \"Cashew nuts\", \"product_price\": 900, \"product_quantity\": 10, \"product_Category\": \"dryfruits in kg\"}, \"100241\": {\"product_name\": \"Haldrims\", \"product_price\": 35, \"product_quantity\": 50, \"product_Category\": \"snack item\"}, \"100242\": {\"product_name\": \"santoor\", \"product_price\": 30, \"product_quantity\": 30, \"product_Category\": \"soap\"}, \"100243\": {\"product_name\": \"Rin surf Xl\", \"product_price\": 27, \"product_quantity\": 50, \"product_Category\": \"Detergent soap\"}, \"100244\": {\"product_name\": \"Tide\", \"product_price\": 65, \"product_quantity\": 30, \"product_Category\": \"detergent powder\"}, \"100245\": {\"product_name\": \"ice cream powder\", \"product_price\": 50, \"product_quantity\": 50, \"product_Category\": \"ice cream powder\"}, \"100246\": {\"product_name\": \"ice cream\", \"product_price\": 180, \"product_quantity\": 20, \"product_Category\": \"desserts\"}, \"100247\": {\"product_name\": \"Tajmahal\", \"product_price\": 220, \"product_quantity\": 10, \"product_Category\": \"tea powder\"}, \"100248\": {\"product_name\": \"cinthol perfume\", \"product_price\": 180, \"product_quantity\": 10, \"product_Category\": \"deodrant\"}, \"100249\": {\"product_name\": \"Chilli sauce\", \"product_price\": 50, \"product_quantity\": 15, \"product_Category\": \"sauce\"}, \"100250\": {\"product_name\": \"reynolds pen\", \"product_price\": 10, \"product_quantity\": 50, \"product_Category\": \"pen\"}, \"100251\": {\"product_name\": \"Apsara pencil\", \"product_price\": 5, \"product_quantity\": 100, \"product_Category\": \"pencil\"}, \"100252\": {\"product_name\": \"Himalayan face wash\", \"product_price\": 45, \"product_quantity\": 20, \"product_Category\": \"face wash\"}, \"100253\": {\"product_name\": \"Parachute oil\", \"product_price\": 120, \"product_quantity\": 30, \"product_Category\": \"coconut oil\"}, \"100254\": {\"product_name\": \"Head and shoulder shampoo\", \"product_price\": 100, \"product_quantity\": 20, \"product_Category\": \"shampoo\"}, \"100255\": {\"product_name\": \"Dettol liquid\", \"product_price\": 54, \"product_quantity\": 30, \"product_Category\": \"antiseptic liquid\"}, \"100256\": {\"product_name\": \"Dettol handwash\", \"product_price\": 180, \"product_quantity\": 20, \"product_Category\": \"handwash\"}, \"100257\": {\"product_name\": \"Insta popcorn\", \"product_price\": 10, \"product_quantity\": 100, \"product_Category\": \"popcorn\"}, \"100258\": {\"product_name\": \"comfort\", \"product_price\": 3, \"product_quantity\": 100, \"product_Category\": \"washing liquid\"}, \"100259\": {\"product_name\": \"insta pasta\", \"product_price\": 15, \"product_quantity\": 25, \"product_Category\": \"pasta\"}, \"100260\": {\"product_name\": \"colgate \", \"product_price\": 20, \"product_quantity\": 50, \"product_Category\": \"tooth paste\"}}'"
            ]
          },
          "metadata": {},
          "execution_count": 82
        }
      ]
    },
    {
      "cell_type": "code",
      "metadata": {
        "id": "4j3qaJtJTrao"
      },
      "source": [
        ""
      ],
      "execution_count": 112,
      "outputs": []
    },
    {
      "cell_type": "code",
      "metadata": {
        "id": "mHjvKFosYlqr"
      },
      "source": [
        "fd=open('record.json','r')\n",
        "txt=fd.read()\n",
        "fd.close()"
      ],
      "execution_count": 85,
      "outputs": []
    },
    {
      "cell_type": "code",
      "metadata": {
        "colab": {
          "base_uri": "https://localhost:8080/",
          "height": 124
        },
        "id": "z10YsbtXYoy-",
        "outputId": "76b5f405-b03f-4d6e-93c1-a3e58a08a944"
      },
      "source": [
        "txt"
      ],
      "execution_count": 86,
      "outputs": [
        {
          "output_type": "execute_result",
          "data": {
            "application/vnd.google.colaboratory.intrinsic+json": {
              "type": "string"
            },
            "text/plain": [
              "'{\"100231\": {\"name\": \"Lays\", \"price\": 40, \"quantity\": 35, \"Category\": \"chips\"}, \"100232\": {\"name\": \"oreo\", \"price\": 30, \"quantity\": 40, \"Category\": \"Biscuits\"}, \"100233\": {\"name\": \"Dairymilk\", \"price\": 5, \"quantity\": 100, \"Category\": \"choclates\"}, \"100234\": {\"product_name\": \"Appy fizz\", \"product_price\": 15, \"product_quantity\": 100, \"product_Category\": \"drinks\"}, \"100235\": {\"product_name\": \"cake\", \"product_price\": 20, \"product_quantity\": 100, \"product_Category\": \"bakery item\"}, \"100236\": {\"product_name\": \"sprite\", \"product_price\": 94, \"product_quantity\": 20, \"product_Category\": \"drinks\"}, \"100237\": {\"product_name\": \"freedom oil\", \"product_price\": 165, \"product_quantity\": 15, \"product_Category\": \"cooking oil\"}, \"100238\": {\"product_name\": \"sugar\", \"product_price\": 40, \"product_quantity\": 30, \"product_Category\": \"sugar\"}, \"100239\": {\"product_name\": \"Sona masoori \", \"product_price\": 1300, \"product_quantity\": 10, \"product_Category\": \"rice bag\"}, \"100240\": {\"product_name\": \"Cashew nuts\", \"product_price\": 900, \"product_quantity\": 10, \"product_Category\": \"dryfruits in kg\"}, \"100241\": {\"product_name\": \"Haldrims\", \"product_price\": 35, \"product_quantity\": 50, \"product_Category\": \"snack item\"}, \"100242\": {\"product_name\": \"santoor\", \"product_price\": 30, \"product_quantity\": 30, \"product_Category\": \"soap\"}, \"100243\": {\"product_name\": \"Rin surf Xl\", \"product_price\": 27, \"product_quantity\": 50, \"product_Category\": \"Detergent soap\"}, \"100244\": {\"product_name\": \"Tide\", \"product_price\": 65, \"product_quantity\": 30, \"product_Category\": \"detergent powder\"}, \"100245\": {\"product_name\": \"ice cream powder\", \"product_price\": 50, \"product_quantity\": 50, \"product_Category\": \"ice cream powder\"}, \"100246\": {\"product_name\": \"ice cream\", \"product_price\": 180, \"product_quantity\": 20, \"product_Category\": \"desserts\"}, \"100247\": {\"product_name\": \"Tajmahal\", \"product_price\": 220, \"product_quantity\": 10, \"product_Category\": \"tea powder\"}, \"100248\": {\"product_name\": \"cinthol perfume\", \"product_price\": 180, \"product_quantity\": 10, \"product_Category\": \"deodrant\"}, \"100249\": {\"product_name\": \"Chilli sauce\", \"product_price\": 50, \"product_quantity\": 15, \"product_Category\": \"sauce\"}, \"100250\": {\"product_name\": \"reynolds pen\", \"product_price\": 10, \"product_quantity\": 50, \"product_Category\": \"pen\"}, \"100251\": {\"product_name\": \"Apsara pencil\", \"product_price\": 5, \"product_quantity\": 100, \"product_Category\": \"pencil\"}, \"100252\": {\"product_name\": \"Himalayan face wash\", \"product_price\": 45, \"product_quantity\": 20, \"product_Category\": \"face wash\"}, \"100253\": {\"product_name\": \"Parachute oil\", \"product_price\": 120, \"product_quantity\": 30, \"product_Category\": \"coconut oil\"}, \"100254\": {\"product_name\": \"Head and shoulder shampoo\", \"product_price\": 100, \"product_quantity\": 20, \"product_Category\": \"shampoo\"}, \"100255\": {\"product_name\": \"Dettol liquid\", \"product_price\": 54, \"product_quantity\": 30, \"product_Category\": \"antiseptic liquid\"}, \"100256\": {\"product_name\": \"Dettol handwash\", \"product_price\": 180, \"product_quantity\": 20, \"product_Category\": \"handwash\"}, \"100257\": {\"product_name\": \"Insta popcorn\", \"product_price\": 10, \"product_quantity\": 100, \"product_Category\": \"popcorn\"}, \"100258\": {\"product_name\": \"comfort\", \"product_price\": 3, \"product_quantity\": 100, \"product_Category\": \"washing liquid\"}, \"100259\": {\"product_name\": \"insta pasta\", \"product_price\": 15, \"product_quantity\": 25, \"product_Category\": \"pasta\"}, \"100260\": {\"product_name\": \"colgate \", \"product_price\": 20, \"product_quantity\": 50, \"product_Category\": \"tooth paste\"}}'"
            ]
          },
          "metadata": {},
          "execution_count": 86
        }
      ]
    },
    {
      "cell_type": "code",
      "metadata": {
        "id": "bBgpsGxbYqGD"
      },
      "source": [
        "record=json.loads(txt)"
      ],
      "execution_count": 87,
      "outputs": []
    },
    {
      "cell_type": "code",
      "metadata": {
        "id": "oyeC662_YxHm",
        "colab": {
          "base_uri": "https://localhost:8080/"
        },
        "outputId": "33711a01-9620-49a7-f1b2-0f6ec3daa393"
      },
      "source": [
        "record"
      ],
      "execution_count": 88,
      "outputs": [
        {
          "output_type": "execute_result",
          "data": {
            "text/plain": [
              "{'100231': {'Category': 'chips', 'name': 'Lays', 'price': 40, 'quantity': 35},\n",
              " '100232': {'Category': 'Biscuits',\n",
              "  'name': 'oreo',\n",
              "  'price': 30,\n",
              "  'quantity': 40},\n",
              " '100233': {'Category': 'choclates',\n",
              "  'name': 'Dairymilk',\n",
              "  'price': 5,\n",
              "  'quantity': 100},\n",
              " '100234': {'product_Category': 'drinks',\n",
              "  'product_name': 'Appy fizz',\n",
              "  'product_price': 15,\n",
              "  'product_quantity': 100},\n",
              " '100235': {'product_Category': 'bakery item',\n",
              "  'product_name': 'cake',\n",
              "  'product_price': 20,\n",
              "  'product_quantity': 100},\n",
              " '100236': {'product_Category': 'drinks',\n",
              "  'product_name': 'sprite',\n",
              "  'product_price': 94,\n",
              "  'product_quantity': 20},\n",
              " '100237': {'product_Category': 'cooking oil',\n",
              "  'product_name': 'freedom oil',\n",
              "  'product_price': 165,\n",
              "  'product_quantity': 15},\n",
              " '100238': {'product_Category': 'sugar',\n",
              "  'product_name': 'sugar',\n",
              "  'product_price': 40,\n",
              "  'product_quantity': 30},\n",
              " '100239': {'product_Category': 'rice bag',\n",
              "  'product_name': 'Sona masoori ',\n",
              "  'product_price': 1300,\n",
              "  'product_quantity': 10},\n",
              " '100240': {'product_Category': 'dryfruits in kg',\n",
              "  'product_name': 'Cashew nuts',\n",
              "  'product_price': 900,\n",
              "  'product_quantity': 10},\n",
              " '100241': {'product_Category': 'snack item',\n",
              "  'product_name': 'Haldrims',\n",
              "  'product_price': 35,\n",
              "  'product_quantity': 50},\n",
              " '100242': {'product_Category': 'soap',\n",
              "  'product_name': 'santoor',\n",
              "  'product_price': 30,\n",
              "  'product_quantity': 30},\n",
              " '100243': {'product_Category': 'Detergent soap',\n",
              "  'product_name': 'Rin surf Xl',\n",
              "  'product_price': 27,\n",
              "  'product_quantity': 50},\n",
              " '100244': {'product_Category': 'detergent powder',\n",
              "  'product_name': 'Tide',\n",
              "  'product_price': 65,\n",
              "  'product_quantity': 30},\n",
              " '100245': {'product_Category': 'ice cream powder',\n",
              "  'product_name': 'ice cream powder',\n",
              "  'product_price': 50,\n",
              "  'product_quantity': 50},\n",
              " '100246': {'product_Category': 'desserts',\n",
              "  'product_name': 'ice cream',\n",
              "  'product_price': 180,\n",
              "  'product_quantity': 20},\n",
              " '100247': {'product_Category': 'tea powder',\n",
              "  'product_name': 'Tajmahal',\n",
              "  'product_price': 220,\n",
              "  'product_quantity': 10},\n",
              " '100248': {'product_Category': 'deodrant',\n",
              "  'product_name': 'cinthol perfume',\n",
              "  'product_price': 180,\n",
              "  'product_quantity': 10},\n",
              " '100249': {'product_Category': 'sauce',\n",
              "  'product_name': 'Chilli sauce',\n",
              "  'product_price': 50,\n",
              "  'product_quantity': 15},\n",
              " '100250': {'product_Category': 'pen',\n",
              "  'product_name': 'reynolds pen',\n",
              "  'product_price': 10,\n",
              "  'product_quantity': 50},\n",
              " '100251': {'product_Category': 'pencil',\n",
              "  'product_name': 'Apsara pencil',\n",
              "  'product_price': 5,\n",
              "  'product_quantity': 100},\n",
              " '100252': {'product_Category': 'face wash',\n",
              "  'product_name': 'Himalayan face wash',\n",
              "  'product_price': 45,\n",
              "  'product_quantity': 20},\n",
              " '100253': {'product_Category': 'coconut oil',\n",
              "  'product_name': 'Parachute oil',\n",
              "  'product_price': 120,\n",
              "  'product_quantity': 30},\n",
              " '100254': {'product_Category': 'shampoo',\n",
              "  'product_name': 'Head and shoulder shampoo',\n",
              "  'product_price': 100,\n",
              "  'product_quantity': 20},\n",
              " '100255': {'product_Category': 'antiseptic liquid',\n",
              "  'product_name': 'Dettol liquid',\n",
              "  'product_price': 54,\n",
              "  'product_quantity': 30},\n",
              " '100256': {'product_Category': 'handwash',\n",
              "  'product_name': 'Dettol handwash',\n",
              "  'product_price': 180,\n",
              "  'product_quantity': 20},\n",
              " '100257': {'product_Category': 'popcorn',\n",
              "  'product_name': 'Insta popcorn',\n",
              "  'product_price': 10,\n",
              "  'product_quantity': 100},\n",
              " '100258': {'product_Category': 'washing liquid',\n",
              "  'product_name': 'comfort',\n",
              "  'product_price': 3,\n",
              "  'product_quantity': 100},\n",
              " '100259': {'product_Category': 'pasta',\n",
              "  'product_name': 'insta pasta',\n",
              "  'product_price': 15,\n",
              "  'product_quantity': 25},\n",
              " '100260': {'product_Category': 'tooth paste',\n",
              "  'product_name': 'colgate ',\n",
              "  'product_price': 20,\n",
              "  'product_quantity': 50}}"
            ]
          },
          "metadata": {},
          "execution_count": 88
        }
      ]
    },
    {
      "cell_type": "code",
      "metadata": {
        "id": "JIofCO4CY2PK"
      },
      "source": [
        "#reading data is completed"
      ],
      "execution_count": 90,
      "outputs": []
    },
    {
      "cell_type": "code",
      "metadata": {
        "id": "-9JtBiuWizgE"
      },
      "source": [
        "#purchaing of the items"
      ],
      "execution_count": 91,
      "outputs": []
    },
    {
      "cell_type": "code",
      "metadata": {
        "id": "7RCtYRzkjKfI",
        "colab": {
          "base_uri": "https://localhost:8080/"
        },
        "outputId": "61743828-bf29-4f2e-d9f9-5c96f1e29349"
      },
      "source": [
        "ui_product = str(input(\"Enter the product id:\"))\n",
        "ui_quantity = int(input(\"Enter the quantity:\"))\n",
        "\n",
        "print(\"*****************************************\")\n",
        "\n",
        "print(\"product_name: \",record[ui_product]['product_name'])\n",
        "print(\"product_price: \",record[ui_product]['product_price'])\n",
        "print(\"Billing Amount: \",record[ui_product]['product_price']*ui_quantity)\n",
        "print(\"*****************************************\")\n",
        "record[ui_product]['product_quantity']=record[ui_product]['product_quantity']-ui_quantity"
      ],
      "execution_count": 122,
      "outputs": [
        {
          "output_type": "stream",
          "name": "stdout",
          "text": [
            "Enter the product id:100234\n",
            "Enter the quantity:2\n",
            "*****************************************\n",
            "product_name:  Appy fizz\n",
            "product_price:  15\n",
            "Billing Amount:  30\n",
            "*****************************************\n"
          ]
        }
      ]
    },
    {
      "cell_type": "code",
      "metadata": {
        "id": "i02fIdmfjMWN",
        "colab": {
          "base_uri": "https://localhost:8080/"
        },
        "outputId": "bbccf024-a12d-42d4-b07e-5edc15dfafe0"
      },
      "source": [
        "record['100234']"
      ],
      "execution_count": 120,
      "outputs": [
        {
          "output_type": "execute_result",
          "data": {
            "text/plain": [
              "{'product_Category': 'drinks',\n",
              " 'product_name': 'Appy fizz',\n",
              " 'product_price': 15,\n",
              " 'product_quantity': 95}"
            ]
          },
          "metadata": {},
          "execution_count": 120
        }
      ]
    },
    {
      "cell_type": "code",
      "metadata": {
        "id": "zmDd_vQnnFPR"
      },
      "source": [
        "fd=open('record.json','w')\n",
        "fd.write(js)\n",
        "fd.close()"
      ],
      "execution_count": 113,
      "outputs": []
    },
    {
      "cell_type": "code",
      "metadata": {
        "id": "ijAlBB3Pn1rL"
      },
      "source": [
        "js=json.dumps(record)"
      ],
      "execution_count": 115,
      "outputs": []
    },
    {
      "cell_type": "code",
      "metadata": {
        "colab": {
          "base_uri": "https://localhost:8080/",
          "height": 124
        },
        "id": "emmxTNLooBaB",
        "outputId": "8a82e88a-45fb-40e1-8c6c-58cad9c1b028"
      },
      "source": [
        "js"
      ],
      "execution_count": 116,
      "outputs": [
        {
          "output_type": "execute_result",
          "data": {
            "application/vnd.google.colaboratory.intrinsic+json": {
              "type": "string"
            },
            "text/plain": [
              "'{\"100231\": {\"name\": \"Lays\", \"price\": 40, \"quantity\": 35, \"Category\": \"chips\"}, \"100232\": {\"name\": \"oreo\", \"price\": 30, \"quantity\": 40, \"Category\": \"Biscuits\"}, \"100233\": {\"name\": \"Dairymilk\", \"price\": 5, \"quantity\": 100, \"Category\": \"choclates\"}, \"100234\": {\"product_name\": \"Appy fizz\", \"product_price\": 15, \"product_quantity\": 95, \"product_Category\": \"drinks\"}, \"100235\": {\"product_name\": \"cake\", \"product_price\": 20, \"product_quantity\": 100, \"product_Category\": \"bakery item\"}, \"100236\": {\"product_name\": \"sprite\", \"product_price\": 94, \"product_quantity\": 20, \"product_Category\": \"drinks\"}, \"100237\": {\"product_name\": \"freedom oil\", \"product_price\": 165, \"product_quantity\": 15, \"product_Category\": \"cooking oil\"}, \"100238\": {\"product_name\": \"sugar\", \"product_price\": 40, \"product_quantity\": 30, \"product_Category\": \"sugar\"}, \"100239\": {\"product_name\": \"Sona masoori \", \"product_price\": 1300, \"product_quantity\": 10, \"product_Category\": \"rice bag\"}, \"100240\": {\"product_name\": \"Cashew nuts\", \"product_price\": 900, \"product_quantity\": 10, \"product_Category\": \"dryfruits in kg\"}, \"100241\": {\"product_name\": \"Haldrims\", \"product_price\": 35, \"product_quantity\": 50, \"product_Category\": \"snack item\"}, \"100242\": {\"product_name\": \"santoor\", \"product_price\": 30, \"product_quantity\": 30, \"product_Category\": \"soap\"}, \"100243\": {\"product_name\": \"Rin surf Xl\", \"product_price\": 27, \"product_quantity\": 50, \"product_Category\": \"Detergent soap\"}, \"100244\": {\"product_name\": \"Tide\", \"product_price\": 65, \"product_quantity\": 30, \"product_Category\": \"detergent powder\"}, \"100245\": {\"product_name\": \"ice cream powder\", \"product_price\": 50, \"product_quantity\": 50, \"product_Category\": \"ice cream powder\"}, \"100246\": {\"product_name\": \"ice cream\", \"product_price\": 180, \"product_quantity\": 20, \"product_Category\": \"desserts\"}, \"100247\": {\"product_name\": \"Tajmahal\", \"product_price\": 220, \"product_quantity\": 10, \"product_Category\": \"tea powder\"}, \"100248\": {\"product_name\": \"cinthol perfume\", \"product_price\": 180, \"product_quantity\": 10, \"product_Category\": \"deodrant\"}, \"100249\": {\"product_name\": \"Chilli sauce\", \"product_price\": 50, \"product_quantity\": 15, \"product_Category\": \"sauce\"}, \"100250\": {\"product_name\": \"reynolds pen\", \"product_price\": 10, \"product_quantity\": 50, \"product_Category\": \"pen\"}, \"100251\": {\"product_name\": \"Apsara pencil\", \"product_price\": 5, \"product_quantity\": 100, \"product_Category\": \"pencil\"}, \"100252\": {\"product_name\": \"Himalayan face wash\", \"product_price\": 45, \"product_quantity\": 20, \"product_Category\": \"face wash\"}, \"100253\": {\"product_name\": \"Parachute oil\", \"product_price\": 120, \"product_quantity\": 30, \"product_Category\": \"coconut oil\"}, \"100254\": {\"product_name\": \"Head and shoulder shampoo\", \"product_price\": 100, \"product_quantity\": 20, \"product_Category\": \"shampoo\"}, \"100255\": {\"product_name\": \"Dettol liquid\", \"product_price\": 54, \"product_quantity\": 30, \"product_Category\": \"antiseptic liquid\"}, \"100256\": {\"product_name\": \"Dettol handwash\", \"product_price\": 180, \"product_quantity\": 20, \"product_Category\": \"handwash\"}, \"100257\": {\"product_name\": \"Insta popcorn\", \"product_price\": 10, \"product_quantity\": 100, \"product_Category\": \"popcorn\"}, \"100258\": {\"product_name\": \"comfort\", \"product_price\": 3, \"product_quantity\": 100, \"product_Category\": \"washing liquid\"}, \"100259\": {\"product_name\": \"insta pasta\", \"product_price\": 15, \"product_quantity\": 25, \"product_Category\": \"pasta\"}, \"100260\": {\"product_name\": \"colgate \", \"product_price\": 20, \"product_quantity\": 50, \"product_Category\": \"tooth paste\"}}'"
            ]
          },
          "metadata": {},
          "execution_count": 116
        }
      ]
    },
    {
      "cell_type": "code",
      "metadata": {
        "id": "3HHtHlGdoCoO"
      },
      "source": [
        ""
      ],
      "execution_count": null,
      "outputs": []
    }
  ]
}